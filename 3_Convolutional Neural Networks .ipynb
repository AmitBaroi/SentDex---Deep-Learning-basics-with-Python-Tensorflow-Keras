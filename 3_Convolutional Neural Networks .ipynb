{
 "cells": [
  {
   "cell_type": "code",
   "execution_count": 2,
   "metadata": {},
   "outputs": [],
   "source": [
    "import tensorflow as tf\n",
    "from keras.models import Sequential\n",
    "from keras.layers import Dense, Dropout, Activation, Flatten, Conv2D, MaxPooling2D\n",
    "import pickle"
   ]
  },
  {
   "cell_type": "markdown",
   "metadata": {},
   "source": [
    "# Loading data"
   ]
  },
  {
   "cell_type": "code",
   "execution_count": 3,
   "metadata": {},
   "outputs": [],
   "source": [
    "X = pickle.load(open(\"Data\\X.pickle\", \"rb\"))\n",
    "y = pickle.load(open(\"Data\\y.pickle\", \"rb\"))"
   ]
  },
  {
   "cell_type": "markdown",
   "metadata": {},
   "source": [
    "# Scaling pixels"
   ]
  },
  {
   "cell_type": "code",
   "execution_count": 4,
   "metadata": {},
   "outputs": [],
   "source": [
    "import matplotlib.pyplot as plt\n",
    "import random"
   ]
  },
  {
   "cell_type": "code",
   "execution_count": 5,
   "metadata": {},
   "outputs": [
    {
     "name": "stdout",
     "output_type": "stream",
     "text": [
      "Before scaling:\n"
     ]
    },
    {
     "data": {
      "text/plain": [
       "<matplotlib.image.AxesImage at 0xd680358>"
      ]
     },
     "execution_count": 5,
     "metadata": {},
     "output_type": "execute_result"
    },
    {
     "data": {
      "image/png": "[encoded data removed]",
      "text/plain": [
       "<Figure size 432x288 with 1 Axes>"
      ]
     },
     "metadata": {
      "needs_background": "light"
     },
     "output_type": "display_data"
    }
   ],
   "source": [
    "random_num = random.randint(0, len(X))\n",
    "print(\"Before scaling:\")\n",
    "plt.imshow(X[random_num][:, :, 0], cmap=plt.cm.binary)"
   ]
  },
  {
   "cell_type": "code",
   "execution_count": 6,
   "metadata": {},
   "outputs": [
    {
     "name": "stdout",
     "output_type": "stream",
     "text": [
      "After scaling:\n"
     ]
    },
    {
     "data": {
      "text/plain": [
       "<matplotlib.image.AxesImage at 0xd723dd8>"
      ]
     },
     "execution_count": 6,
     "metadata": {},
     "output_type": "execute_result"
    },
    {
     "data": {
      "image/png": "[encoded data removed]",
      "text/plain": [
       "<Figure size 432x288 with 1 Axes>"
      ]
     },
     "metadata": {
      "needs_background": "light"
     },
     "output_type": "display_data"
    }
   ],
   "source": [
    "X = X/255\n",
    "print(\"After scaling:\")\n",
    "plt.imshow(X[random_num][:, :, 0], cmap=plt.cm.binary)"
   ]
  },
  {
   "cell_type": "markdown",
   "metadata": {},
   "source": [
    "# Building model"
   ]
  },
  {
   "cell_type": "code",
   "execution_count": 7,
   "metadata": {},
   "outputs": [],
   "source": [
    "model = Sequential()\n",
    "\n",
    "# Input layer\n",
    "model.add(Conv2D(64, (3, 3), input_shape=X.shape[1:]))\n",
    "model.add(Activation(\"relu\"))\n",
    "model.add(MaxPooling2D(pool_size=(2, 2)))\n",
    "\n",
    "# Hidden layer 1\n",
    "model.add(Conv2D(64, (3, 3)))\n",
    "model.add(Activation(\"relu\"))\n",
    "model.add(MaxPooling2D(pool_size=(2, 2)))\n",
    "\n",
    "# Hidden layer 2\n",
    "model.add(Flatten())\n",
    "model.add(Dense(64))\n",
    "model.add(Activation(\"relu\"))\n",
    "\n",
    "# Output layer\n",
    "model.add(Dense(1))\n",
    "model.add(Activation(\"sigmoid\"))\n",
    "\n",
    "model.compile(loss='binary_crossentropy',\n",
    "              optimizer='adam',\n",
    "              metrics=['accuracy'])"
   ]
  },
  {
   "cell_type": "markdown",
   "metadata": {},
   "source": [
    "# Training"
   ]
  },
  {
   "cell_type": "code",
   "execution_count": 8,
   "metadata": {},
   "outputs": [
    {
     "name": "stdout",
     "output_type": "stream",
     "text": [
      "Train on 22451 samples, validate on 2495 samples\n",
      "Epoch 1/10\n",
      "22451/22451 [==============================] - 190s 8ms/step - loss: 0.5897 - acc: 0.6812 - val_loss: 0.5324 - val_acc: 0.7399\n",
      "Epoch 2/10\n",
      "22451/22451 [==============================] - 212s 9ms/step - loss: 0.5074 - acc: 0.7514 - val_loss: 0.4852 - val_acc: 0.7595\n",
      "Epoch 3/10\n",
      "22451/22451 [==============================] - 214s 10ms/step - loss: 0.4720 - acc: 0.7752 - val_loss: 0.4651 - val_acc: 0.7764\n",
      "Epoch 4/10\n",
      "22451/22451 [==============================] - 216s 10ms/step - loss: 0.4367 - acc: 0.7960 - val_loss: 0.4446 - val_acc: 0.7916\n",
      "Epoch 5/10\n",
      "22451/22451 [==============================] - 217s 10ms/step - loss: 0.4044 - acc: 0.8152 - val_loss: 0.4335 - val_acc: 0.7880\n",
      "Epoch 6/10\n",
      "22451/22451 [==============================] - 217s 10ms/step - loss: 0.3736 - acc: 0.8300 - val_loss: 0.4254 - val_acc: 0.8024\n",
      "Epoch 7/10\n",
      "22451/22451 [==============================] - 217s 10ms/step - loss: 0.3406 - acc: 0.8492 - val_loss: 0.4962 - val_acc: 0.7752\n",
      "Epoch 8/10\n",
      "22451/22451 [==============================] - 214s 10ms/step - loss: 0.3010 - acc: 0.8707 - val_loss: 0.4527 - val_acc: 0.8000\n",
      "Epoch 9/10\n",
      "22451/22451 [==============================] - 216s 10ms/step - loss: 0.2611 - acc: 0.8889 - val_loss: 0.4902 - val_acc: 0.7840\n",
      "Epoch 10/10\n",
      "22451/22451 [==============================] - 217s 10ms/step - loss: 0.2186 - acc: 0.9103 - val_loss: 0.4782 - val_acc: 0.7928\n"
     ]
    },
    {
     "data": {
      "text/plain": [
       "<keras.callbacks.History at 0xd75d5c0>"
      ]
     },
     "execution_count": 8,
     "metadata": {},
     "output_type": "execute_result"
    }
   ],
   "source": [
    "model.fit(X, y, batch_size=32, epochs=10, validation_split=0.1)"
   ]
  }
 ],
 "metadata": {
  "kernelspec": {
   "display_name": "Python 3.6 (tf_env)",
   "language": "python",
   "name": "tf_env"
  },
  "language_info": {
   "codemirror_mode": {
    "name": "ipython",
    "version": 3
   },
   "file_extension": ".py",
   "mimetype": "text/x-python",
   "name": "python",
   "nbconvert_exporter": "python",
   "pygments_lexer": "ipython3",
   "version": "3.6.9"
  }
 },
 "nbformat": 4,
 "nbformat_minor": 2
}
