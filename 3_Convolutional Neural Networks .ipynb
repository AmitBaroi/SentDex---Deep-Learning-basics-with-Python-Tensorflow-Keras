{
 "cells": [
  {
   "cell_type": "code",
   "execution_count": 2,
   "metadata": {},
   "outputs": [],
   "source": [
    "import tensorflow as tf\n",
    "from keras.models import Sequential\n",
    "from keras.layers import Dense, Dropout, Activation, Flatten, Conv2D, MaxPooling2D\n",
    "import pickle"
   ]
  },
  {
   "cell_type": "markdown",
   "metadata": {},
   "source": [
    "# Loading data"
   ]
  },
  {
   "cell_type": "code",
   "execution_count": 3,
   "metadata": {},
   "outputs": [],
   "source": [
    "X = pickle.load(open(\"Data\\X.pickle\", \"rb\"))\n",
    "y = pickle.load(open(\"Data\\y.pickle\", \"rb\"))"
   ]
  },
  {
   "cell_type": "markdown",
   "metadata": {},
   "source": [
    "# Scaling pixels"
   ]
  },
  {
   "cell_type": "code",
   "execution_count": 4,
   "metadata": {},
   "outputs": [],
   "source": [
    "import matplotlib.pyplot as plt\n",
    "import random"
   ]
  },
  {
   "cell_type": "code",
   "execution_count": 5,
   "metadata": {},
   "outputs": [
    {
     "name": "stdout",
     "output_type": "stream",
     "text": [
      "Before scaling:\n"
     ]
    },
    {
     "data": {
      "text/plain": [
       "<matplotlib.image.AxesImage at 0xd679da0>"
      ]
     },
     "execution_count": 5,
     "metadata": {},
     "output_type": "execute_result"
    },
    {
     "data": {
      "image/png": "[encoded data removed]",
      "text/plain": [
       "<Figure size 432x288 with 1 Axes>"
      ]
     },
     "metadata": {
      "needs_background": "light"
     },
     "output_type": "display_data"
    }
   ],
   "source": [
    "random_num = random.randint(0, len(X))\n",
    "print(\"Before scaling:\")\n",
    "plt.imshow(X[random_num][:, :, 0], cmap=plt.cm.binary)"
   ]
  },
  {
   "cell_type": "code",
   "execution_count": 6,
   "metadata": {},
   "outputs": [
    {
     "name": "stdout",
     "output_type": "stream",
     "text": [
      "After scaling:\n"
     ]
    },
    {
     "data": {
      "text/plain": [
       "<matplotlib.image.AxesImage at 0xd716828>"
      ]
     },
     "execution_count": 6,
     "metadata": {},
     "output_type": "execute_result"
    },
    {
     "data": {
      "image/png": "[encoded data removed]",
      "text/plain": [
       "<Figure size 432x288 with 1 Axes>"
      ]
     },
     "metadata": {
      "needs_background": "light"
     },
     "output_type": "display_data"
    }
   ],
   "source": [
    "X = X/255\n",
    "print(\"After scaling:\")\n",
    "plt.imshow(X[random_num][:, :, 0], cmap=plt.cm.binary)"
   ]
  },
  {
   "cell_type": "markdown",
   "metadata": {},
   "source": [
    "# Building model"
   ]
  },
  {
   "cell_type": "code",
   "execution_count": 7,
   "metadata": {},
   "outputs": [],
   "source": [
    "model = Sequential()\n",
    "\n",
    "# Input layer\n",
    "model.add(Conv2D(64, (3, 3), input_shape=X.shape[1:]))\n",
    "model.add(Activation(\"relu\"))\n",
    "model.add(MaxPooling2D(pool_size=(2, 2)))\n",
    "\n",
    "# Hidden layer 1\n",
    "model.add(Conv2D(64, (3, 3)))\n",
    "model.add(Activation(\"relu\"))\n",
    "model.add(MaxPooling2D(pool_size=(2, 2)))\n",
    "\n",
    "# Hidden layer 2\n",
    "model.add(Flatten())\n",
    "model.add(Dense(64))\n",
    "\n",
    "# Output layer\n",
    "model.add(Dense(1))\n",
    "model.add(Activation(\"sigmoid\"))\n",
    "\n",
    "model.compile(loss='binary_crossentropy',\n",
    "              optimizer='adam',\n",
    "              metrics=['accuracy'])"
   ]
  },
  {
   "cell_type": "markdown",
   "metadata": {},
   "source": [
    "# Training"
   ]
  },
  {
   "cell_type": "code",
   "execution_count": 8,
   "metadata": {},
   "outputs": [
    {
     "name": "stdout",
     "output_type": "stream",
     "text": [
      "Train on 22451 samples, validate on 2495 samples\n",
      "Epoch 1/10\n",
      "22451/22451 [==============================] - 204s 9ms/step - loss: 0.6186 - acc: 0.6562 - val_loss: 0.5586 - val_acc: 0.7114\n",
      "Epoch 2/10\n",
      "22451/22451 [==============================] - 223s 10ms/step - loss: 0.5244 - acc: 0.7401 - val_loss: 0.5199 - val_acc: 0.7547\n",
      "Epoch 3/10\n",
      "22451/22451 [==============================] - 226s 10ms/step - loss: 0.4837 - acc: 0.7670 - val_loss: 0.4743 - val_acc: 0.7695\n",
      "Epoch 4/10\n",
      "22451/22451 [==============================] - 238s 11ms/step - loss: 0.4490 - acc: 0.7916 - val_loss: 0.4548 - val_acc: 0.7876\n",
      "Epoch 5/10\n",
      "22451/22451 [==============================] - 255s 11ms/step - loss: 0.4242 - acc: 0.8056 - val_loss: 0.4887 - val_acc: 0.7683\n",
      "Epoch 6/10\n",
      "22451/22451 [==============================] - 269s 12ms/step - loss: 0.4062 - acc: 0.8132 - val_loss: 0.4765 - val_acc: 0.7832\n",
      "Epoch 7/10\n",
      "22451/22451 [==============================] - 252s 11ms/step - loss: 0.3835 - acc: 0.8268 - val_loss: 0.4987 - val_acc: 0.7760\n",
      "Epoch 8/10\n",
      "22451/22451 [==============================] - 272s 12ms/step - loss: 0.3635 - acc: 0.8378 - val_loss: 0.4608 - val_acc: 0.7964\n",
      "Epoch 9/10\n",
      "22451/22451 [==============================] - 236s 11ms/step - loss: 0.3468 - acc: 0.8470 - val_loss: 0.4462 - val_acc: 0.7996\n",
      "Epoch 10/10\n",
      "22451/22451 [==============================] - 253s 11ms/step - loss: 0.3282 - acc: 0.8563 - val_loss: 0.4550 - val_acc: 0.7976\n"
     ]
    },
    {
     "data": {
      "text/plain": [
       "<keras.callbacks.History at 0xd73d470>"
      ]
     },
     "execution_count": 8,
     "metadata": {},
     "output_type": "execute_result"
    }
   ],
   "source": [
    "model.fit(X, y, batch_size=32, epochs=10, validation_split=0.1)"
   ]
  },
  {
   "cell_type": "code",
   "execution_count": null,
   "metadata": {},
   "outputs": [],
   "source": []
  }
 ],
 "metadata": {
  "kernelspec": {
   "display_name": "Python 3.6 (tf_env)",
   "language": "python",
   "name": "tf_env"
  },
  "language_info": {
   "codemirror_mode": {
    "name": "ipython",
    "version": 3
   },
   "file_extension": ".py",
   "mimetype": "text/x-python",
   "name": "python",
   "nbconvert_exporter": "python",
   "pygments_lexer": "ipython3",
   "version": "3.6.9"
  }
 },
 "nbformat": 4,
 "nbformat_minor": 2
}
