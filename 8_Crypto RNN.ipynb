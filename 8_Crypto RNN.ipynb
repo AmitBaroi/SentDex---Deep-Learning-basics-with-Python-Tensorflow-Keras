{
 "cells": [
  {
   "cell_type": "code",
   "execution_count": 1,
   "metadata": {},
   "outputs": [],
   "source": [
    "import pandas as pd\n",
    "import os"
   ]
  },
  {
   "cell_type": "markdown",
   "metadata": {},
   "source": [
    "Writing a function to prepare the data:"
   ]
  },
  {
   "cell_type": "code",
   "execution_count": 2,
   "metadata": {},
   "outputs": [
    {
     "name": "stdout",
     "output_type": "stream",
     "text": [
      "File 1 | BCH-USD.csv | Processing...\n",
      "File 2 | BTC-USD.csv | Processing...\n",
      "File 3 | ETH-USD.csv | Processing...\n",
      "File 4 | LTC-USD.csv | Processing...\n",
      "Process complete!\n"
     ]
    },
    {
     "data": {
      "text/html": [
       "<div>\n",
       "<style scoped>\n",
       "    .dataframe tbody tr th:only-of-type {\n",
       "        vertical-align: middle;\n",
       "    }\n",
       "\n",
       "    .dataframe tbody tr th {\n",
       "        vertical-align: top;\n",
       "    }\n",
       "\n",
       "    .dataframe thead th {\n",
       "        text-align: right;\n",
       "    }\n",
       "</style>\n",
       "<table border=\"1\" class=\"dataframe\">\n",
       "  <thead>\n",
       "    <tr style=\"text-align: right;\">\n",
       "      <th></th>\n",
       "      <th>BCH-USD_close</th>\n",
       "      <th>BCH-USD_volume</th>\n",
       "      <th>BTC-USD_close</th>\n",
       "      <th>BTC-USD_volume</th>\n",
       "      <th>ETH-USD_close</th>\n",
       "      <th>ETH-USD_volume</th>\n",
       "      <th>LTC-USD_close</th>\n",
       "      <th>LTC-USD_volume</th>\n",
       "    </tr>\n",
       "    <tr>\n",
       "      <th>time</th>\n",
       "      <th></th>\n",
       "      <th></th>\n",
       "      <th></th>\n",
       "      <th></th>\n",
       "      <th></th>\n",
       "      <th></th>\n",
       "      <th></th>\n",
       "      <th></th>\n",
       "    </tr>\n",
       "  </thead>\n",
       "  <tbody>\n",
       "    <tr>\n",
       "      <th>1528968660</th>\n",
       "      <td>871.719971</td>\n",
       "      <td>5.675361</td>\n",
       "      <td>6489.549805</td>\n",
       "      <td>0.587100</td>\n",
       "      <td>NaN</td>\n",
       "      <td>NaN</td>\n",
       "      <td>96.580002</td>\n",
       "      <td>9.647200</td>\n",
       "    </tr>\n",
       "    <tr>\n",
       "      <th>1528968720</th>\n",
       "      <td>870.859985</td>\n",
       "      <td>26.856577</td>\n",
       "      <td>6487.379883</td>\n",
       "      <td>7.706374</td>\n",
       "      <td>486.01001</td>\n",
       "      <td>26.019083</td>\n",
       "      <td>96.660004</td>\n",
       "      <td>314.387024</td>\n",
       "    </tr>\n",
       "    <tr>\n",
       "      <th>1528968780</th>\n",
       "      <td>870.099976</td>\n",
       "      <td>1.124300</td>\n",
       "      <td>6479.410156</td>\n",
       "      <td>3.088252</td>\n",
       "      <td>486.00000</td>\n",
       "      <td>8.449400</td>\n",
       "      <td>96.570000</td>\n",
       "      <td>77.129799</td>\n",
       "    </tr>\n",
       "    <tr>\n",
       "      <th>1528968840</th>\n",
       "      <td>870.789978</td>\n",
       "      <td>1.749862</td>\n",
       "      <td>6479.410156</td>\n",
       "      <td>1.404100</td>\n",
       "      <td>485.75000</td>\n",
       "      <td>26.994646</td>\n",
       "      <td>96.500000</td>\n",
       "      <td>7.216067</td>\n",
       "    </tr>\n",
       "    <tr>\n",
       "      <th>1528968900</th>\n",
       "      <td>870.000000</td>\n",
       "      <td>1.680500</td>\n",
       "      <td>6479.979980</td>\n",
       "      <td>0.753000</td>\n",
       "      <td>486.00000</td>\n",
       "      <td>77.355759</td>\n",
       "      <td>96.389999</td>\n",
       "      <td>524.539978</td>\n",
       "    </tr>\n",
       "  </tbody>\n",
       "</table>\n",
       "</div>"
      ],
      "text/plain": [
       "            BCH-USD_close  BCH-USD_volume  BTC-USD_close  BTC-USD_volume  \\\n",
       "time                                                                       \n",
       "1528968660     871.719971        5.675361    6489.549805        0.587100   \n",
       "1528968720     870.859985       26.856577    6487.379883        7.706374   \n",
       "1528968780     870.099976        1.124300    6479.410156        3.088252   \n",
       "1528968840     870.789978        1.749862    6479.410156        1.404100   \n",
       "1528968900     870.000000        1.680500    6479.979980        0.753000   \n",
       "\n",
       "            ETH-USD_close  ETH-USD_volume  LTC-USD_close  LTC-USD_volume  \n",
       "time                                                                      \n",
       "1528968660            NaN             NaN      96.580002        9.647200  \n",
       "1528968720      486.01001       26.019083      96.660004      314.387024  \n",
       "1528968780      486.00000        8.449400      96.570000       77.129799  \n",
       "1528968840      485.75000       26.994646      96.500000        7.216067  \n",
       "1528968900      486.00000       77.355759      96.389999      524.539978  "
      ]
     },
     "execution_count": 2,
     "metadata": {},
     "output_type": "execute_result"
    }
   ],
   "source": [
    "DIRECTORY = \"Data\\\\crypto\"\n",
    "\n",
    "def prepare(directory):\n",
    "    \"\"\"Function for preparing crypto-currency data. Assumes that data on each currency is stored in seperated CSV files and\n",
    "    each file contains the following columns: 'time', 'low', 'high', 'open', 'close', 'volume'.\n",
    "    \n",
    "    Returns a Pandas DataFrame with the closing price and volume of each crypto-currency.\"\"\"\n",
    "    \n",
    "    main_df = pd.DataFrame()\n",
    "    for i, f_name in enumerate(os.listdir(DIRECTORY)):\n",
    "        file = os.path.join(DIRECTORY, f_name)\n",
    "        print(\"File\", i+1, \"|\", f_name, \"| Processing...\")\n",
    "        df = pd.read_csv(file, names=['time', 'low', 'high', 'open', 'close', 'volume'])\n",
    "        f_name = f_name.split(\".\")[0]\n",
    "        df.rename(columns={\"close\":f\"{f_name}_close\", \"volume\":f\"{f_name}_volume\"}, inplace=True)\n",
    "        df.set_index(\"time\", inplace=True)\n",
    "        df = df[[f\"{f_name}_close\", f\"{f_name}_volume\"]]\n",
    "        if len(main_df) == 0:\n",
    "            main_df = df\n",
    "        else:\n",
    "            main_df = main_df.join(df)\n",
    "    print(\"Process complete!\")\n",
    "    return main_df\n",
    "\n",
    "df = prepare(DIRECTORY)\n",
    "df.head()"
   ]
  },
  {
   "cell_type": "code",
   "execution_count": null,
   "metadata": {},
   "outputs": [],
   "source": []
  },
  {
   "cell_type": "code",
   "execution_count": null,
   "metadata": {},
   "outputs": [],
   "source": []
  },
  {
   "cell_type": "code",
   "execution_count": null,
   "metadata": {},
   "outputs": [],
   "source": []
  },
  {
   "cell_type": "code",
   "execution_count": null,
   "metadata": {},
   "outputs": [],
   "source": []
  },
  {
   "cell_type": "code",
   "execution_count": null,
   "metadata": {},
   "outputs": [],
   "source": []
  },
  {
   "cell_type": "code",
   "execution_count": null,
   "metadata": {},
   "outputs": [],
   "source": []
  },
  {
   "cell_type": "code",
   "execution_count": null,
   "metadata": {},
   "outputs": [],
   "source": []
  }
 ],
 "metadata": {
  "kernelspec": {
   "display_name": "Python 3.6 (tf_env)",
   "language": "python",
   "name": "tf_env"
  },
  "language_info": {
   "codemirror_mode": {
    "name": "ipython",
    "version": 3
   },
   "file_extension": ".py",
   "mimetype": "text/x-python",
   "name": "python",
   "nbconvert_exporter": "python",
   "pygments_lexer": "ipython3",
   "version": "3.6.9"
  }
 },
 "nbformat": 4,
 "nbformat_minor": 2
}
